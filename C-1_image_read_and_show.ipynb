{
 "cells": [
  {
   "cell_type": "code",
   "execution_count": 1,
   "id": "b878d7dc",
   "metadata": {},
   "outputs": [],
   "source": [
    "import cv2"
   ]
  },
  {
   "cell_type": "code",
   "execution_count": null,
   "id": "5ae748ed",
   "metadata": {},
   "outputs": [],
   "source": [
    "img = cv2.imread(\"data/1.jpg\")\n",
    "cv2.imshow(\"Original Image\", img)\n",
    "cv2.waitKey(5000)\n",
    "# cv2.destroyAllWindows()\n",
    "# destroy the specific window\n",
    "cv2.destroyWindow(\"Original Image\")"
   ]
  },
  {
   "cell_type": "code",
   "execution_count": null,
   "id": "98b0a8fd",
   "metadata": {},
   "outputs": [],
   "source": [
    "\n",
    "\n",
    "img = cv2.imread(\"data/1.jpg\")\n",
    "img2 = cv2.imread(\"data/2.jpg\")\n",
    "cv2.imshow(\"Original Image\", img)\n",
    "cv2.imshow(\"Original Image2\", img2)\n",
    "cv2.waitKey(5000)\n",
    "# destory multiple windows\n",
    "cv2.destroyAllWindows()"
   ]
  }
 ],
 "metadata": {
  "kernelspec": {
   "display_name": "base",
   "language": "python",
   "name": "python3"
  },
  "language_info": {
   "codemirror_mode": {
    "name": "ipython",
    "version": 3
   },
   "file_extension": ".py",
   "mimetype": "text/x-python",
   "name": "python",
   "nbconvert_exporter": "python",
   "pygments_lexer": "ipython3",
   "version": "3.12.3"
  }
 },
 "nbformat": 4,
 "nbformat_minor": 5
}
