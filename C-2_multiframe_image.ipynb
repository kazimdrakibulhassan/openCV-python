{
 "cells": [
  {
   "cell_type": "code",
   "execution_count": 2,
   "id": "9cd80738",
   "metadata": {},
   "outputs": [],
   "source": [
    "import cv2\n",
    "import numpy as np"
   ]
  },
  {
   "cell_type": "code",
   "execution_count": 7,
   "id": "0b9f7b2e",
   "metadata": {},
   "outputs": [],
   "source": [
    "img  = cv2.imread('data/1.jpg')\n",
    "# resize image\n",
    "resized_img = cv2.resize(img, (500, 300))\n",
    "cv2.imshow(\"jelly fish\", resized_img)\n",
    "cv2.waitKey(5000)\n",
    "cv2.destroyAllWindows()"
   ]
  }
 ],
 "metadata": {
  "kernelspec": {
   "display_name": "base",
   "language": "python",
   "name": "python3"
  },
  "language_info": {
   "codemirror_mode": {
    "name": "ipython",
    "version": 3
   },
   "file_extension": ".py",
   "mimetype": "text/x-python",
   "name": "python",
   "nbconvert_exporter": "python",
   "pygments_lexer": "ipython3",
   "version": "3.12.3"
  }
 },
 "nbformat": 4,
 "nbformat_minor": 5
}
