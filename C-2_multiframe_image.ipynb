{
 "cells": [
  {
   "cell_type": "code",
   "execution_count": 21,
   "id": "9cd80738",
   "metadata": {},
   "outputs": [],
   "source": [
    "import cv2\n",
    "import numpy as np\n",
    "import os"
   ]
  },
  {
   "cell_type": "code",
   "execution_count": 13,
   "id": "0b9f7b2e",
   "metadata": {},
   "outputs": [],
   "source": [
    "img  = cv2.imread('data/1.jpg')\n",
    "# resize image\n",
    "resized_img = cv2.resize(img, (500, 300))\n",
    "cv2.imshow(\"jelly fish\", resized_img)\n",
    "cv2.waitKey(5000)\n",
    "cv2.destroyAllWindows()"
   ]
  },
  {
   "cell_type": "code",
   "execution_count": 20,
   "id": "f5f1fd85",
   "metadata": {},
   "outputs": [
    {
     "name": "stdout",
     "output_type": "stream",
     "text": [
      "[[[187 167 109]\n",
      "  [189 167 109]\n",
      "  [193 169 111]\n",
      "  ...\n",
      "  [192 157 107]\n",
      "  [193 158 108]\n",
      "  [192 158 105]]\n",
      "\n",
      " [[170 150  92]\n",
      "  [171 149  91]\n",
      "  [173 149  91]\n",
      "  ...\n",
      "  [174 139  89]\n",
      "  [177 142  92]\n",
      "  [178 144  91]]\n",
      "\n",
      " [[171 149  91]\n",
      "  [170 146  88]\n",
      "  [169 145  87]\n",
      "  ...\n",
      "  [174 139  89]\n",
      "  [177 142  92]\n",
      "  [178 144  91]]\n",
      "\n",
      " ...\n",
      "\n",
      " [[129 107 112]\n",
      "  [125 103 115]\n",
      "  [120  99 121]\n",
      "  ...\n",
      "  [158 175 184]\n",
      "  [175 191 203]\n",
      "  [168 184 197]]\n",
      "\n",
      " [[125 107 114]\n",
      "  [122 103 118]\n",
      "  [112  93 120]\n",
      "  ...\n",
      "  [176 191 200]\n",
      "  [194 208 220]\n",
      "  [192 205 221]]\n",
      "\n",
      " [[171 154 163]\n",
      "  [173 155 172]\n",
      "  [166 148 179]\n",
      "  ...\n",
      "  [206 218 230]\n",
      "  [216 227 241]\n",
      "  [210 223 239]]]\n"
     ]
    }
   ],
   "source": [
    "# multiple image in same window\n",
    "img  = cv2.imread('data/3.jpg')\n",
    "print(img)\n",
    "\n",
    "resized_img = cv2.resize(img, (500, 300))\n",
    "h = np.hstack((resized_img, resized_img, resized_img))\n",
    "v = np.vstack((h,h))\n",
    "cv2.imshow(\"horizontal multiple image\", v)\n",
    "cv2.waitKey(5000)\n",
    "cv2.destroyAllWindows()"
   ]
  },
  {
   "cell_type": "code",
   "execution_count": null,
   "id": "51847d9b",
   "metadata": {},
   "outputs": [
    {
     "data": {
      "text/plain": [
       "['1.jpg', '2.jpg', '3.jpg']"
      ]
     },
     "execution_count": 22,
     "metadata": {},
     "output_type": "execute_result"
    }
   ],
   "source": [
    "list_name  = os.listdir(\"data\")\n",
    "list_name"
   ]
  },
  {
   "cell_type": "code",
   "execution_count": 32,
   "id": "8e18f460",
   "metadata": {},
   "outputs": [],
   "source": [
    "for name in list_name:\n",
    "    path = \"data\"\n",
    "    img_name = path + \"/\" + name\n",
    "    img = cv2.imread(img_name)\n",
    "    if img is not None:\n",
    "        img = cv2.resize(img, (500, 300))\n",
    "        cv2.imshow(\"all images\", img)\n",
    "        cv2.waitKey(0)\n",
    "    else:\n",
    "        print(f\"Failed to load image: {img_name}\")\n",
    "cv2.destroyAllWindows()\n",
    "    "
   ]
  }
 ],
 "metadata": {
  "kernelspec": {
   "display_name": "base",
   "language": "python",
   "name": "python3"
  },
  "language_info": {
   "codemirror_mode": {
    "name": "ipython",
    "version": 3
   },
   "file_extension": ".py",
   "mimetype": "text/x-python",
   "name": "python",
   "nbconvert_exporter": "python",
   "pygments_lexer": "ipython3",
   "version": "3.12.3"
  }
 },
 "nbformat": 4,
 "nbformat_minor": 5
}
