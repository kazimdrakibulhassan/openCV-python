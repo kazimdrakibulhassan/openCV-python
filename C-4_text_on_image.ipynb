{
 "cells": [
  {
   "cell_type": "code",
   "execution_count": 1,
   "id": "f0148992",
   "metadata": {},
   "outputs": [],
   "source": [
    "import cv2"
   ]
  },
  {
   "cell_type": "code",
   "execution_count": 2,
   "id": "2609f453",
   "metadata": {},
   "outputs": [
    {
     "name": "stdout",
     "output_type": "stream",
     "text": [
      "Help on built-in function putText:\n",
      "\n",
      "putText(...)\n",
      "    putText(img, text, org, fontFace, fontScale, color[, thickness[, lineType[, bottomLeftOrigin]]]) -> img\n",
      "    .   @brief Draws a text string.\n",
      "    .   \n",
      "    .   The function cv::putText renders the specified text string in the image. Symbols that cannot be rendered\n",
      "    .   using the specified font are replaced by question marks. See #getTextSize for a text rendering code\n",
      "    .   example.\n",
      "    .   \n",
      "    .   @param img Image.\n",
      "    .   @param text Text string to be drawn.\n",
      "    .   @param org Bottom-left corner of the text string in the image.\n",
      "    .   @param fontFace Font type, see #HersheyFonts.\n",
      "    .   @param fontScale Font scale factor that is multiplied by the font-specific base size.\n",
      "    .   @param color Text color.\n",
      "    .   @param thickness Thickness of the lines used to draw a text.\n",
      "    .   @param lineType Line type. See #LineTypes\n",
      "    .   @param bottomLeftOrigin When true, the image data origin is at the bottom-left corner. Otherwise,\n",
      "    .   it is at the top-left corner.\n",
      "\n"
     ]
    }
   ],
   "source": [
    "help(cv2.putText)"
   ]
  },
  {
   "cell_type": "code",
   "execution_count": 23,
   "id": "3e4d1aef",
   "metadata": {},
   "outputs": [],
   "source": [
    "img_get = cv2.imread(\"data/3.jpg\")\n",
    "img_get =  cv2.resize(img_get,(500,300))\n",
    "# putText(img, text, org, fontFace, fontScale, color[, thickness[, lineType[, bottomLeftOrigin]]])\n",
    "text_over_image = cv2.putText(img = img_get,\n",
    "text = \"Spring\",\n",
    "org = (100,100),\n",
    "fontFace = cv2.FONT_HERSHEY_DUPLEX,\n",
    "fontScale = 3,\n",
    "color = (255,255,255),\n",
    "thickness = 3,\n",
    "lineType = cv2.LINE_8,\n",
    "bottomLeftOrigin = False )\n",
    "\n",
    "text_over_image = cv2.putText(img = img_get,\n",
    "text = \"Spring\",\n",
    "org = (100,150),\n",
    "fontFace = cv2.FONT_HERSHEY_DUPLEX,\n",
    "fontScale = 3,\n",
    "color = (0,0,0),\n",
    "thickness = 3,\n",
    "lineType = cv2.LINE_8,\n",
    "bottomLeftOrigin = True )\n",
    "\n",
    "cv2.imshow(\"image 3\", img_get)\n",
    "cv2.waitKey(0)\n",
    "cv2.destroyAllWindows()"
   ]
  }
 ],
 "metadata": {
  "kernelspec": {
   "display_name": "anaconda-ml-ai",
   "language": "python",
   "name": "python3"
  },
  "language_info": {
   "codemirror_mode": {
    "name": "ipython",
    "version": 3
   },
   "file_extension": ".py",
   "mimetype": "text/x-python",
   "name": "python",
   "nbconvert_exporter": "python",
   "pygments_lexer": "ipython3",
   "version": "3.11.11"
  }
 },
 "nbformat": 4,
 "nbformat_minor": 5
}
