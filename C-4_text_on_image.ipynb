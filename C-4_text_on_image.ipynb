{
 "cells": [
  {
   "cell_type": "code",
   "execution_count": 1,
   "id": "f0148992",
   "metadata": {},
   "outputs": [],
   "source": [
    "import cv2"
   ]
  },
  {
   "cell_type": "code",
   "execution_count": 2,
   "id": "2609f453",
   "metadata": {},
   "outputs": [
    {
     "name": "stdout",
     "output_type": "stream",
     "text": [
      "Help on built-in function putText:\n",
      "\n",
      "putText(...)\n",
      "    putText(img, text, org, fontFace, fontScale, color[, thickness[, lineType[, bottomLeftOrigin]]]) -> img\n",
      "    .   @brief Draws a text string.\n",
      "    .   \n",
      "    .   The function cv::putText renders the specified text string in the image. Symbols that cannot be rendered\n",
      "    .   using the specified font are replaced by question marks. See #getTextSize for a text rendering code\n",
      "    .   example.\n",
      "    .   \n",
      "    .   @param img Image.\n",
      "    .   @param text Text string to be drawn.\n",
      "    .   @param org Bottom-left corner of the text string in the image.\n",
      "    .   @param fontFace Font type, see #HersheyFonts.\n",
      "    .   @param fontScale Font scale factor that is multiplied by the font-specific base size.\n",
      "    .   @param color Text color.\n",
      "    .   @param thickness Thickness of the lines used to draw a text.\n",
      "    .   @param lineType Line type. See #LineTypes\n",
      "    .   @param bottomLeftOrigin When true, the image data origin is at the bottom-left corner. Otherwise,\n",
      "    .   it is at the top-left corner.\n",
      "\n"
     ]
    }
   ],
   "source": [
    "help(cv2.putText)"
   ]
  },
  {
   "cell_type": "code",
   "execution_count": null,
   "id": "3e4d1aef",
   "metadata": {},
   "outputs": [
    {
     "ename": "error",
     "evalue": "OpenCV(4.10.0) :-1: error: (-5:Bad argument) in function 'putText'\n> Overload resolution failed:\n>  - putText() missing required argument 'img' (pos 1)\n>  - putText() missing required argument 'img' (pos 1)\n",
     "output_type": "error",
     "traceback": [
      "\u001b[31m---------------------------------------------------------------------------\u001b[39m",
      "\u001b[31merror\u001b[39m                                     Traceback (most recent call last)",
      "\u001b[36mCell\u001b[39m\u001b[36m \u001b[39m\u001b[32mIn[4]\u001b[39m\u001b[32m, line 4\u001b[39m\n\u001b[32m      1\u001b[39m img_get = cv2.imread(\u001b[33m\"\u001b[39m\u001b[33mdata/3.jpg\u001b[39m\u001b[33m\"\u001b[39m)\n\u001b[32m      2\u001b[39m img = cv2.resize(img_get,(\u001b[32m500\u001b[39m,\u001b[32m300\u001b[39m))\n\u001b[32m----> \u001b[39m\u001b[32m4\u001b[39m txt = cv2.putText()\n\u001b[32m      6\u001b[39m cv2.imshow(\u001b[33m\"\u001b[39m\u001b[33mimage 3\u001b[39m\u001b[33m\"\u001b[39m, img)\n\u001b[32m      7\u001b[39m cv2.waitKey(\u001b[32m5000\u001b[39m)\n",
      "\u001b[31merror\u001b[39m: OpenCV(4.10.0) :-1: error: (-5:Bad argument) in function 'putText'\n> Overload resolution failed:\n>  - putText() missing required argument 'img' (pos 1)\n>  - putText() missing required argument 'img' (pos 1)\n"
     ]
    }
   ],
   "source": [
    "img_get = cv2.imread(\"data/3.jpg\")\n",
    "img = cv2.resize(img_get,(500,300))\n",
    "text = \"Spring\"\n",
    "org = (50,50)\n",
    "fontFace = cv2.FONT_HERSHEY_DUPLEX\n",
    "color = (255,255,0)\n",
    "thickness = 3\n",
    "lineType = cv2.LINE_8\n",
    "# putText(img, text, org, fontFace, fontScale, color[, thickness[, lineType[, bottomLeftOrigin]]])\n",
    "text_over_image = cv2.putText(img, text, org, fontFace, )\n",
    "\n",
    "cv2.imshow(\"image 3\", img)\n",
    "cv2.waitKey(5000)\n",
    "cv2.destroyAllWindows()"
   ]
  }
 ],
 "metadata": {
  "kernelspec": {
   "display_name": "anaconda-ml-ai",
   "language": "python",
   "name": "python3"
  },
  "language_info": {
   "codemirror_mode": {
    "name": "ipython",
    "version": 3
   },
   "file_extension": ".py",
   "mimetype": "text/x-python",
   "name": "python",
   "nbconvert_exporter": "python",
   "pygments_lexer": "ipython3",
   "version": "3.11.11"
  }
 },
 "nbformat": 4,
 "nbformat_minor": 5
}
