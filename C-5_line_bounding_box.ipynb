{
 "cells": [
  {
   "cell_type": "code",
   "execution_count": 1,
   "id": "8ab07cd0",
   "metadata": {},
   "outputs": [],
   "source": [
    "import cv2"
   ]
  },
  {
   "cell_type": "code",
   "execution_count": 2,
   "id": "dcf856a7",
   "metadata": {},
   "outputs": [
    {
     "name": "stdout",
     "output_type": "stream",
     "text": [
      "Help on built-in function line:\n",
      "\n",
      "line(...)\n",
      "    line(img, pt1, pt2, color[, thickness[, lineType[, shift]]]) -> img\n",
      "    .   @brief Draws a line segment connecting two points.\n",
      "    .   \n",
      "    .   The function line draws the line segment between pt1 and pt2 points in the image. The line is\n",
      "    .   clipped by the image boundaries. For non-antialiased lines with integer coordinates, the 8-connected\n",
      "    .   or 4-connected Bresenham algorithm is used. Thick lines are drawn with rounding endings. Antialiased\n",
      "    .   lines are drawn using Gaussian filtering.\n",
      "    .   \n",
      "    .   @param img Image.\n",
      "    .   @param pt1 First point of the line segment.\n",
      "    .   @param pt2 Second point of the line segment.\n",
      "    .   @param color Line color.\n",
      "    .   @param thickness Line thickness.\n",
      "    .   @param lineType Type of the line. See #LineTypes.\n",
      "    .   @param shift Number of fractional bits in the point coordinates.\n",
      "\n"
     ]
    }
   ],
   "source": [
    "help(cv2.line)"
   ]
  },
  {
   "cell_type": "code",
   "execution_count": 13,
   "id": "978c96e2",
   "metadata": {},
   "outputs": [],
   "source": [
    "def load_resize_and_show(path, size, window_name=\"Image\"):\n",
    "    img = cv2.resize(cv2.imread(path), size)\n",
    "    if img is not None:\n",
    "        # line(img, pt1, pt2, color[, thickness[, lineType[, shift]]])\n",
    "        new_img = cv2.line(img, pt1=(290,182), pt2 = (408, 182), color = (0,191,255), thickness = 4, lineType = 4)\n",
    "        cv2.imshow(window_name, new_img)\n",
    "        cv2.waitKey(3000)\n",
    "        cv2.destroyAllWindows()\n",
    "        return new_img\n",
    "    else:\n",
    "        print(f\"Error: Could not load image from {path}\")\n",
    "        return None\n",
    "\n",
    "img = load_resize_and_show(\"data/2.jpg\", (800, 500), \"Flower Image\")"
   ]
  }
 ],
 "metadata": {
  "kernelspec": {
   "display_name": "anaconda-ml-ai",
   "language": "python",
   "name": "python3"
  },
  "language_info": {
   "codemirror_mode": {
    "name": "ipython",
    "version": 3
   },
   "file_extension": ".py",
   "mimetype": "text/x-python",
   "name": "python",
   "nbconvert_exporter": "python",
   "pygments_lexer": "ipython3",
   "version": "3.11.11"
  }
 },
 "nbformat": 4,
 "nbformat_minor": 5
}
