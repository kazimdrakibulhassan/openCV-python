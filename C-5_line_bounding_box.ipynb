{
 "cells": [
  {
   "cell_type": "code",
   "execution_count": 1,
   "id": "8ab07cd0",
   "metadata": {},
   "outputs": [],
   "source": [
    "import cv2"
   ]
  },
  {
   "cell_type": "code",
   "execution_count": 2,
   "id": "dcf856a7",
   "metadata": {},
   "outputs": [
    {
     "name": "stdout",
     "output_type": "stream",
     "text": [
      "Help on built-in function line:\n",
      "\n",
      "line(...)\n",
      "    line(img, pt1, pt2, color[, thickness[, lineType[, shift]]]) -> img\n",
      "    .   @brief Draws a line segment connecting two points.\n",
      "    .   \n",
      "    .   The function line draws the line segment between pt1 and pt2 points in the image. The line is\n",
      "    .   clipped by the image boundaries. For non-antialiased lines with integer coordinates, the 8-connected\n",
      "    .   or 4-connected Bresenham algorithm is used. Thick lines are drawn with rounding endings. Antialiased\n",
      "    .   lines are drawn using Gaussian filtering.\n",
      "    .   \n",
      "    .   @param img Image.\n",
      "    .   @param pt1 First point of the line segment.\n",
      "    .   @param pt2 Second point of the line segment.\n",
      "    .   @param color Line color.\n",
      "    .   @param thickness Line thickness.\n",
      "    .   @param lineType Type of the line. See #LineTypes.\n",
      "    .   @param shift Number of fractional bits in the point coordinates.\n",
      "\n"
     ]
    }
   ],
   "source": [
    "help(cv2.line)"
   ]
  },
  {
   "cell_type": "code",
   "execution_count": 5,
   "id": "978c96e2",
   "metadata": {},
   "outputs": [],
   "source": [
    "def draw_line_over_object(path, size, window_name=\"Image\"):\n",
    "    img = cv2.resize(cv2.imread(path), size)\n",
    "    if img is not None:\n",
    "        # line(img, pt1, pt2, color[, thickness[, lineType[, shift]]])\n",
    "        new_img = cv2.line(img, pt1=(290,182), pt2 = (408, 182), color = (0,191,255), thickness = 4, lineType = 4)\n",
    "        cv2.imshow(window_name, new_img)\n",
    "        cv2.waitKey(3000)\n",
    "        cv2.destroyAllWindows()\n",
    "        return new_img\n",
    "    else:\n",
    "        print(f\"Error: Could not load image from {path}\")\n",
    "        return None\n",
    "\n",
    "img = draw_line_over_object(\"data/2.jpg\", (800, 500), \"Flower Image\")"
   ]
  },
  {
   "cell_type": "code",
   "execution_count": 4,
   "id": "3e1c2a56",
   "metadata": {},
   "outputs": [
    {
     "name": "stdout",
     "output_type": "stream",
     "text": [
      "Help on built-in function rectangle:\n",
      "\n",
      "rectangle(...)\n",
      "    rectangle(img, pt1, pt2, color[, thickness[, lineType[, shift]]]) -> img\n",
      "    .   @brief Draws a simple, thick, or filled up-right rectangle.\n",
      "    .   \n",
      "    .   The function cv::rectangle draws a rectangle outline or a filled rectangle whose two opposite corners\n",
      "    .   are pt1 and pt2.\n",
      "    .   \n",
      "    .   @param img Image.\n",
      "    .   @param pt1 Vertex of the rectangle.\n",
      "    .   @param pt2 Vertex of the rectangle opposite to pt1 .\n",
      "    .   @param color Rectangle color or brightness (grayscale image).\n",
      "    .   @param thickness Thickness of lines that make up the rectangle. Negative values, like #FILLED,\n",
      "    .   mean that the function has to draw a filled rectangle.\n",
      "    .   @param lineType Type of the line. See #LineTypes\n",
      "    .   @param shift Number of fractional bits in the point coordinates.\n",
      "    \n",
      "    \n",
      "    \n",
      "    rectangle(img, rec, color[, thickness[, lineType[, shift]]]) -> img\n",
      "    .   @overload\n",
      "    .   \n",
      "    .   use `rec` parameter as alternative specification of the drawn rectangle: `r.tl() and\n",
      "    .   r.br()-Point(1,1)` are opposite corners\n",
      "\n"
     ]
    }
   ],
   "source": [
    "help(cv2.rectangle)"
   ]
  },
  {
   "cell_type": "code",
   "execution_count": 9,
   "id": "d0bc7d24",
   "metadata": {},
   "outputs": [],
   "source": [
    "def draw_rectengle_in_object (path, size, window_name=\"Image\"):\n",
    "    img = cv2.resize(cv2.imread(path), size)\n",
    "    if img is not None:\n",
    "        # rectangle(img, pt1, pt2, color, thickness, lineType, shift)\n",
    "        new_img = cv2.rectangle(img, pt1=(290,182), pt2=(408,280), color=(65,105,225), thickness=2, lineType=2)\n",
    "        cv2.imshow(window_name, new_img)\n",
    "        cv2.waitKey(3000)\n",
    "        cv2.destroyAllWindows()\n",
    "        return(new_img)\n",
    "    else:\n",
    "        return None\n",
    "    \n",
    "img = draw_rectengle_in_object(\"data/2.jpg\",(800,500),\"Flower Rectange\")\n",
    "        \n",
    "    "
   ]
  }
 ],
 "metadata": {
  "kernelspec": {
   "display_name": "anaconda-ml-ai",
   "language": "python",
   "name": "python3"
  },
  "language_info": {
   "codemirror_mode": {
    "name": "ipython",
    "version": 3
   },
   "file_extension": ".py",
   "mimetype": "text/x-python",
   "name": "python",
   "nbconvert_exporter": "python",
   "pygments_lexer": "ipython3",
   "version": "3.11.11"
  }
 },
 "nbformat": 4,
 "nbformat_minor": 5
}
